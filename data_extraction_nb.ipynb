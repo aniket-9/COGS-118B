{
 "cells": [
  {
   "cell_type": "code",
   "execution_count": 2,
   "metadata": {},
   "outputs": [],
   "source": [
    "import numpy as np\n",
    "import gdal\n",
    "import glob\n",
    "import os\n",
    "import datetime\n",
    "from scipy.interpolate import griddata\n",
    "import re\n",
    "import xarray as xr"
   ]
  },
  {
   "cell_type": "code",
   "execution_count": 23,
   "metadata": {},
   "outputs": [],
   "source": [
    "# Collect Files\n",
    "file_dict = {\n",
    "    'EVI' : glob.glob('MODIS_NDVI/MOD13*EVI*.tif'),\n",
    "    'EVI_QC' : glob.glob('MODIS_NDVI/*pixel_reliability*.tif'),\n",
    "    'TA' : glob.glob('MODIS_TA/MOD14*FireMask*.tif'),\n",
    "    'TA_QC' : glob.glob('MODIS_TA/*QA*.tif'),\n",
    "    'LST_Day' : glob.glob('MODIS_LST_Day/*LST_Day*.tif'),\n",
    "    'LST_Day_QC' : glob.glob('MODIS_LST_Day/*QC_Day*.tif'),\n",
    "    'LST_Night' : glob.glob('MODIS_LST_Night/*LST_Night*.tif'),\n",
    "    'LST_Night_QC' : glob.glob('MODIS_LST_Night/*QC_Night*.tif')\n",
    "}"
   ]
  },
  {
   "cell_type": "code",
   "execution_count": 24,
   "metadata": {},
   "outputs": [
    {
     "name": "stdout",
     "output_type": "stream",
     "text": [
      "EVI\n",
      "EVI Done\n",
      "EVI_QC\n",
      "EVI_QC Done\n",
      "TA\n",
      "TA Done\n",
      "TA_QC\n",
      "TA_QC Done\n",
      "LST_Day\n",
      "LST_Day Done\n",
      "LST_Day_QC\n",
      "LST_Day_QC Done\n",
      "LST_Night\n",
      "LST_Night Done\n",
      "LST_Night_QC\n",
      "LST_Night_QC Done\n"
     ]
    }
   ],
   "source": [
    "# Open files and store as netcdfs\n",
    "pat = r'doy(\\d{7})'\n",
    "for k, v in file_dict.items():\n",
    "    da_list = []\n",
    "    print(k)\n",
    "    for fp in v:\n",
    "        time = re.findall(pat, fp)[0]\n",
    "        year = int(time[:4])\n",
    "        day = int(time[-3:])\n",
    "        da = xr.open_rasterio(fp)\n",
    "        dt = (datetime.datetime(year, 1, 1) + datetime.timedelta(day - 1))\n",
    "        da = da.assign_coords(time=dt)\n",
    "        da_list.append(da)\n",
    "    da = xr.concat(da_list, dim='time').squeeze()\n",
    "    da.name = k\n",
    "    da.to_netcdf('netcdfs/%s.nc' % k)\n",
    "    print(k, 'Done')\n"
   ]
  },
  {
   "cell_type": "code",
   "execution_count": null,
   "metadata": {},
   "outputs": [],
   "source": []
  }
 ],
 "metadata": {
  "kernelspec": {
   "display_name": "Python 3",
   "language": "python",
   "name": "python3"
  },
  "language_info": {
   "codemirror_mode": {
    "name": "ipython",
    "version": 3
   },
   "file_extension": ".py",
   "mimetype": "text/x-python",
   "name": "python",
   "nbconvert_exporter": "python",
   "pygments_lexer": "ipython3",
   "version": "3.7.4"
  }
 },
 "nbformat": 4,
 "nbformat_minor": 2
}
