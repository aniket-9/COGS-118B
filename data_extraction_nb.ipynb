{
 "cells": [
  {
   "cell_type": "code",
   "execution_count": 1,
   "metadata": {},
   "outputs": [],
   "source": [
    "import numpy as np\n",
    "import gdal\n",
    "import glob\n",
    "import os\n",
    "import datetime\n",
    "from scipy.interpolate import griddata\n",
    "import re\n",
    "import xarray as xr\n",
    "import cartopy.crs as ccrs\n",
    "import matplotlib.pyplot as plt"
   ]
  },
  {
   "cell_type": "code",
   "execution_count": 6,
   "metadata": {},
   "outputs": [],
   "source": [
    "# Collect Files\n",
    "file_dict = {\n",
    "    'EVI' : glob.glob('MODIS_NDVI/MOD13*EVI*.tif'),\n",
    "    'EVI_QC' : glob.glob('MODIS_NDVI/*pixel_reliability*.tif'),\n",
    "    'TA' : glob.glob('MODIS_TA/MOD14*FireMask*.tif'),\n",
    "    'TA_QC' : glob.glob('MODIS_TA/*QA*.tif'),\n",
    "    'LST_Day' : glob.glob('MODIS_LST_Day/*LST_Day*.tif'),\n",
    "    'LST_Day_QC' : glob.glob('MODIS_LST_Day/*QC_Day*.tif'),\n",
    "    'LST_Night' : glob.glob('MODIS_LST_Night/*LST_Night*.tif'),\n",
    "    'LST_Night_QC' : glob.glob('MODIS_LST_Night/*QC_Night*.tif')\n",
    "}"
   ]
  },
  {
   "cell_type": "code",
   "execution_count": 3,
   "metadata": {},
   "outputs": [],
   "source": [
    "# Open files and store as netcdfs\n",
    "def open_xarray(data, file_dict):\n",
    "    \"\"\"\n",
    "    Opens dataset as an xarray DataArray.\n",
    "    \n",
    "    :param data: key from file_dict\n",
    "    :param file_dict: dictionary of file paths\n",
    "    \n",
    "    :returns: xarray data structure\"\"\"\n",
    "    v = file_dict[data]\n",
    "    pat = r'doy(\\d{7})'\n",
    "    da_list = []\n",
    "    for fp in v:\n",
    "        time = re.findall(pat, fp)[0]\n",
    "        year = int(time[:4])\n",
    "        day = int(time[-3:])\n",
    "        da = xr.open_rasterio(fp)\n",
    "        dt = (datetime.datetime(year, 1, 1) + datetime.timedelta(day - 1))\n",
    "        da = da.assign_coords(time=dt)\n",
    "        da_list.append(da)\n",
    "    da = xr.concat(da_list, dim='time').squeeze()\n",
    "    da.name = data\n",
    "    da.values = da.values * eval(da.attrs['scale_factor'])  # apply scale factor \n",
    "    \n",
    "    return da\n"
   ]
  },
  {
   "cell_type": "code",
   "execution_count": 15,
   "metadata": {},
   "outputs": [],
   "source": [
    "ta_qc_da = open_xarray('TA_QC', file_dict)"
   ]
  },
  {
   "cell_type": "code",
   "execution_count": 16,
   "metadata": {},
   "outputs": [
    {
     "data": {
      "text/plain": [
       "(array([-999,    0,    1,    2,    4,    5,    6], dtype=int16),\n",
       " array([46558717,   380106,    16991,  3420767,   697882,    37598,\n",
       "        18794141]))"
      ]
     },
     "execution_count": 16,
     "metadata": {},
     "output_type": "execute_result"
    }
   ],
   "source": [
    "np.unique(ta_qc_da.values, return_counts=True)"
   ]
  },
  {
   "cell_type": "code",
   "execution_count": 4,
   "metadata": {},
   "outputs": [],
   "source": [
    "evi_qc_da = open_xarray('EVI_QC', file_dict)"
   ]
  },
  {
   "cell_type": "code",
   "execution_count": 7,
   "metadata": {},
   "outputs": [
    {
     "data": {
      "text/plain": [
       "(array([-1,  0,  1,  2,  3], dtype=int32),\n",
       " array([24235671,  9317419,  1245754,   625456,   272484]))"
      ]
     },
     "execution_count": 7,
     "metadata": {},
     "output_type": "execute_result"
    }
   ],
   "source": [
    "_, num = np.unique(evi_qc_da, return_counts=True)\n",
    "np.unique(evi_qc_da, return_counts=True)"
   ]
  },
  {
   "cell_type": "code",
   "execution_count": 20,
   "metadata": {},
   "outputs": [],
   "source": [
    "lst_day_qc_da = open_xarray('LST_Day_QC', file_dict)"
   ]
  },
  {
   "cell_type": "code",
   "execution_count": 21,
   "metadata": {},
   "outputs": [
    {
     "data": {
      "text/plain": [
       "(array([  0,   2,   3,  17,  33,  49,  65,  81,  97, 113, 129, 145, 177],\n",
       "       dtype=uint8),\n",
       " array([59021958,   438224,   893141,  4281835,    46662,       34,\n",
       "         2583384,  2497094,    64028,       81,     1248,    78511,\n",
       "               2]))"
      ]
     },
     "execution_count": 21,
     "metadata": {},
     "output_type": "execute_result"
    }
   ],
   "source": [
    "np.unique(lst_day_qc_da, return_counts=True)"
   ]
  },
  {
   "cell_type": "code",
   "execution_count": 22,
   "metadata": {},
   "outputs": [],
   "source": [
    "lst_night_qc_da = open_xarray('LST_Night_QC', file_dict)"
   ]
  },
  {
   "cell_type": "code",
   "execution_count": 23,
   "metadata": {},
   "outputs": [
    {
     "data": {
      "text/plain": [
       "(array([  0,   2,   3,  17,  33,  49,  65,  81,  97, 113, 129, 145, 161,\n",
       "        177], dtype=uint8),\n",
       " array([58833409,   378544,   893141,  4789980,    12255,       39,\n",
       "         3178346,  1707528,    23995,      137,     2524,    86170,\n",
       "             132,        2]))"
      ]
     },
     "execution_count": 23,
     "metadata": {},
     "output_type": "execute_result"
    }
   ],
   "source": [
    "np.unique(lst_night_qc_da, return_counts=True)"
   ]
  },
  {
   "cell_type": "code",
   "execution_count": 8,
   "metadata": {},
   "outputs": [],
   "source": [
    "def interp_da(to_interp, interp_like):\n",
    "    \"\"\"\n",
    "    Function intended to perform temporal interpolation on the EVI data.\n",
    "    \n",
    "    :param to_interp: the DataArray to temporally interpolate\n",
    "    :param interp_like: the DataArray with the desired temporal resolution\n",
    "    \n",
    "    :returns: interpolated input DA\n",
    "    \"\"\"\n",
    "    return to_interp.interp({'time':interp_like.time}, method='linear')"
   ]
  },
  {
   "cell_type": "code",
   "execution_count": 50,
   "metadata": {},
   "outputs": [],
   "source": [
    "evi = open_xarray('EVI', file_dict)"
   ]
  },
  {
   "cell_type": "code",
   "execution_count": 51,
   "metadata": {},
   "outputs": [],
   "source": [
    "ta = open_xarray('TA', file_dict)"
   ]
  },
  {
   "cell_type": "code",
   "execution_count": 52,
   "metadata": {},
   "outputs": [],
   "source": [
    "evi = interp_da(evi, ta)"
   ]
  },
  {
   "cell_type": "code",
   "execution_count": 7,
   "metadata": {},
   "outputs": [
    {
     "data": {
      "text/plain": [
       "['MODIS_LST_Day/MOD11A2.006_LST_Day_1km_doy2018297_aid0001.tif',\n",
       " 'MODIS_LST_Day/MOD11A2.006_LST_Day_1km_doy2019121_aid0001.tif',\n",
       " 'MODIS_LST_Day/MOD11A2.006_LST_Day_1km_doy2019033_aid0001.tif',\n",
       " 'MODIS_LST_Day/MOD11A2.006_LST_Day_1km_doy2019001_aid0001.tif',\n",
       " 'MODIS_LST_Day/MOD11A2.006_LST_Day_1km_doy2019113_aid0001.tif',\n",
       " 'MODIS_LST_Day/MOD11A2.006_LST_Day_1km_doy2019089_aid0001.tif',\n",
       " 'MODIS_LST_Day/MOD11A2.006_LST_Day_1km_doy2018241_aid0001.tif',\n",
       " 'MODIS_LST_Day/MOD11A2.006_LST_Day_1km_doy2018353_aid0001.tif',\n",
       " 'MODIS_LST_Day/MOD11A2.006_LST_Day_1km_doy2018361_aid0001.tif',\n",
       " 'MODIS_LST_Day/MOD11A2.006_LST_Day_1km_doy2018273_aid0001.tif',\n",
       " 'MODIS_LST_Day/MOD11A2.006_LST_Day_1km_doy2018209_aid0001.tif',\n",
       " 'MODIS_LST_Day/MOD11A2.006_LST_Day_1km_doy2018257_aid0001.tif',\n",
       " 'MODIS_LST_Day/MOD11A2.006_LST_Day_1km_doy2018345_aid0001.tif',\n",
       " 'MODIS_LST_Day/MOD11A2.006_LST_Day_1km_doy2018329_aid0001.tif',\n",
       " 'MODIS_LST_Day/MOD11A2.006_LST_Day_1km_doy2018265_aid0001.tif',\n",
       " 'MODIS_LST_Day/MOD11A2.006_LST_Day_1km_doy2018281_aid0001.tif',\n",
       " 'MODIS_LST_Day/MOD11A2.006_LST_Day_1km_doy2019169_aid0001.tif',\n",
       " 'MODIS_LST_Day/MOD11A2.006_LST_Day_1km_doy2019137_aid0001.tif',\n",
       " 'MODIS_LST_Day/MOD11A2.006_LST_Day_1km_doy2019025_aid0001.tif',\n",
       " 'MODIS_LST_Day/MOD11A2.006_LST_Day_1km_doy2019049_aid0001.tif',\n",
       " 'MODIS_LST_Day/MOD11A2.006_LST_Day_1km_doy2019017_aid0001.tif',\n",
       " 'MODIS_LST_Day/MOD11A2.006_LST_Day_1km_doy2019105_aid0001.tif',\n",
       " 'MODIS_LST_Day/MOD11A2.006_LST_Day_1km_doy2019081_aid0001.tif',\n",
       " 'MODIS_LST_Day/MOD11A2.006_LST_Day_1km_doy2018177_aid0001.tif',\n",
       " 'MODIS_LST_Day/MOD11A2.006_LST_Day_1km_doy2018225_aid0001.tif',\n",
       " 'MODIS_LST_Day/MOD11A2.006_LST_Day_1km_doy2018337_aid0001.tif',\n",
       " 'MODIS_LST_Day/MOD11A2.006_LST_Day_1km_doy2018305_aid0001.tif',\n",
       " 'MODIS_LST_Day/MOD11A2.006_LST_Day_1km_doy2018217_aid0001.tif',\n",
       " 'MODIS_LST_Day/MOD11A2.006_LST_Day_1km_doy2018249_aid0001.tif',\n",
       " 'MODIS_LST_Day/MOD11A2.006_LST_Day_1km_doy2019145_aid0001.tif',\n",
       " 'MODIS_LST_Day/MOD11A2.006_LST_Day_1km_doy2019057_aid0001.tif',\n",
       " 'MODIS_LST_Day/MOD11A2.006_LST_Day_1km_doy2019009_aid0001.tif',\n",
       " 'MODIS_LST_Day/MOD11A2.006_LST_Day_1km_doy2018193_aid0001.tif',\n",
       " 'MODIS_LST_Day/MOD11A2.006_LST_Day_1km_doy2019065_aid0001.tif',\n",
       " 'MODIS_LST_Day/MOD11A2.006_LST_Day_1km_doy2019177_aid0001.tif',\n",
       " 'MODIS_LST_Day/MOD11A2.006_LST_Day_1km_doy2019129_aid0001.tif',\n",
       " 'MODIS_LST_Day/MOD11A2.006_LST_Day_1km_doy2018289_aid0001.tif',\n",
       " 'MODIS_LST_Day/MOD11A2.006_LST_Day_1km_doy2019153_aid0001.tif',\n",
       " 'MODIS_LST_Day/MOD11A2.006_LST_Day_1km_doy2019041_aid0001.tif',\n",
       " 'MODIS_LST_Day/MOD11A2.006_LST_Day_1km_doy2019073_aid0001.tif',\n",
       " 'MODIS_LST_Day/MOD11A2.006_LST_Day_1km_doy2018185_aid0001.tif',\n",
       " 'MODIS_LST_Day/MOD11A2.006_LST_Day_1km_doy2019161_aid0001.tif',\n",
       " 'MODIS_LST_Day/MOD11A2.006_LST_Day_1km_doy2019097_aid0001.tif',\n",
       " 'MODIS_LST_Day/MOD11A2.006_LST_Day_1km_doy2018233_aid0001.tif',\n",
       " 'MODIS_LST_Day/MOD11A2.006_LST_Day_1km_doy2018321_aid0001.tif',\n",
       " 'MODIS_LST_Day/MOD11A2.006_LST_Day_1km_doy2018313_aid0001.tif',\n",
       " 'MODIS_LST_Day/MOD11A2.006_LST_Day_1km_doy2018201_aid0001.tif']"
      ]
     },
     "execution_count": 7,
     "metadata": {},
     "output_type": "execute_result"
    }
   ],
   "source": [
    "file_dict['LST_Day']"
   ]
  },
  {
   "cell_type": "code",
   "execution_count": null,
   "metadata": {},
   "outputs": [],
   "source": []
  }
 ],
 "metadata": {
  "kernelspec": {
   "display_name": "Python 3",
   "language": "python",
   "name": "python3"
  },
  "language_info": {
   "codemirror_mode": {
    "name": "ipython",
    "version": 3
   },
   "file_extension": ".py",
   "mimetype": "text/x-python",
   "name": "python",
   "nbconvert_exporter": "python",
   "pygments_lexer": "ipython3",
   "version": "3.7.4"
  }
 },
 "nbformat": 4,
 "nbformat_minor": 2
}
