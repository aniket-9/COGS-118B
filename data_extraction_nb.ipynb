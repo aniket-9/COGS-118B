{
 "cells": [
  {
   "cell_type": "code",
   "execution_count": 333,
   "metadata": {},
   "outputs": [],
   "source": [
    "import numpy as np\n",
    "import pandas as pd\n",
    "import gdal\n",
    "import glob\n",
    "import os\n",
    "import datetime\n",
    "from scipy.interpolate import griddata\n",
    "import re\n",
    "import xarray as xr\n",
    "import cartopy.crs as ccrs\n",
    "import matplotlib.pyplot as plt"
   ]
  },
  {
   "cell_type": "code",
   "execution_count": 174,
   "metadata": {},
   "outputs": [],
   "source": [
    "# define variables\n",
    "TA_da = None\n",
    "EVI_da = None\n",
    "LST_Day_da = None\n",
    "LST_Night_da = None\n",
    "MIN_PATCH_SIZE = 3\n",
    "MAX_PATCH_SIZE = 750"
   ]
  },
  {
   "cell_type": "code",
   "execution_count": 2,
   "metadata": {},
   "outputs": [],
   "source": [
    "# Collect Files\n",
    "FILE_DICT = {\n",
    "    'EVI' : glob.glob('MODIS_NDVI/MOD13*EVI*.tif'),\n",
    "    'EVI_pixel' : glob.glob('MODIS_NDVI/*pixel_reliability*.tif'),\n",
    "    'EVI_QC' : glob.glob('MODIS_NDVI/*VI_Quality*.tif'),\n",
    "    'TA' : glob.glob('MODIS_TA/MOD14*FireMask*.tif'),\n",
    "    'TA_QC' : glob.glob('MODIS_TA/*QA*.tif'),\n",
    "    'LST_Day' : glob.glob('MODIS_LST_Day/*LST_Day*.tif'),\n",
    "    'LST_Day_QC' : glob.glob('MODIS_LST_Day/*QC_Day*.tif'),\n",
    "    'LST_Night' : glob.glob('MODIS_LST_Night/*LST_Night*.tif'),\n",
    "    'LST_Night_QC' : glob.glob('MODIS_LST_Night/*QC_Night*.tif')\n",
    "}"
   ]
  },
  {
   "cell_type": "code",
   "execution_count": 268,
   "metadata": {},
   "outputs": [],
   "source": [
    "# Open files as xarray DataArrays\n",
    "def open_xarray(data, is_qc=False):\n",
    "    \"\"\"\n",
    "    Opens dataset as an xarray DataArray.\n",
    "    \n",
    "    :param data: key from file_dict\n",
    "    :param file_dict: dictionary of file paths\n",
    "    \n",
    "    :returns: xarray data structure\"\"\"\n",
    "    v = FILE_DICT[data]\n",
    "    pat = r'doy(\\d{7})'\n",
    "    da_list = []\n",
    "    for fp in v:\n",
    "        # extract timestamp from filepath\n",
    "        time = re.findall(pat, fp)[0]\n",
    "        year = int(time[:4])\n",
    "        day = int(time[-3:])\n",
    "        \n",
    "        # open raster\n",
    "        da = xr.open_rasterio(fp)\n",
    "        \n",
    "        # assign time coordinate to raster\n",
    "        dt = (datetime.datetime(year, 1, 1) + datetime.timedelta(day - 1))\n",
    "        da = da.assign_coords(time=dt)\n",
    "        \n",
    "        # add current day to list of rasters\n",
    "        da_list.append(da)\n",
    "    # consolidate rasters\n",
    "    da = xr.concat(da_list, dim='time').squeeze()\n",
    "    \n",
    "    # give raster a name\n",
    "    da.name = data\n",
    "    # apply scale factor\n",
    "    da.values = da.values * eval(da.attrs['scale_factor'])\n",
    "    if not is_qc:\n",
    "        da.values = da.values.astype(float)\n",
    "        no_data = da.attrs['nodatavals'][0]\n",
    "        da.values = (np.ma.masked_equal(da.values, no_data))\n",
    "    \n",
    "    da = da.sortby(da.time)\n",
    "    return da\n",
    "\n",
    "\n",
    "def interp_da(to_interp, interp_like):\n",
    "    \"\"\"\n",
    "    Function intended to perform temporal interpolation on the EVI data.\n",
    "    \n",
    "    :param to_interp: the DataArray to temporally interpolate\n",
    "    :param interp_like: the DataArray with the desired temporal resolution\n",
    "    \n",
    "    :returns: interpolated input DA\n",
    "    \"\"\"\n",
    "    return to_interp.interp({'time':interp_like.time}, method='linear')"
   ]
  },
  {
   "cell_type": "code",
   "execution_count": 20,
   "metadata": {},
   "outputs": [],
   "source": [
    "QC_MAP = {\n",
    "    'TA': [0, 4],\n",
    "    'EVI': [0],\n",
    "    'LST_Day': [0],\n",
    "    'LST_Night': [0]\n",
    "}\n",
    "\n",
    "def filter_qa(da_name, qc_da_name):\n",
    "    \"\"\"\n",
    "    Filters pixels from dataset based on QA info found in MODXXA2 User Guide.\n",
    "    \n",
    "    :param da_name: the name of the DataArray found in keys of FILE_DICT\n",
    "    :param qc_da_name: the name of the QC DataArray found in the keys of FILE_DICT\n",
    "    \n",
    "    :returns: filtered dataset\n",
    "    \"\"\"\n",
    "    da = open_xarray(da_name)\n",
    "    qc_da = open_xarray(qc_da_name, is_qc=True)\n",
    "    \n",
    "    qc_filter = QC_MAP[da_name]\n",
    "    \n",
    "    for f in qc_filter:\n",
    "        if da_name == 'TA':\n",
    "            da.values[qc_da.values == f] = np.nan\n",
    "        else:\n",
    "            da.values[qc_da.values != f] = np.nan\n",
    "    \n",
    "    return da"
   ]
  },
  {
   "cell_type": "code",
   "execution_count": null,
   "metadata": {},
   "outputs": [],
   "source": [
    "def load_datasets():\n",
    "    \"\"\"\n",
    "    Loads all datasets, does qa filtering, and interpolates where necessary.\n",
    "    Saves datasets to global variables defined at top of notebook.\n",
    "    \"\"\"\n",
    "    global TA_da\n",
    "    global EVI_da\n",
    "    global LST_Day_da\n",
    "    global LST_Night_da\n",
    "    \n",
    "    TA_da = filter_qa('TA', 'TA_QC')\n",
    "    print('TA loaded')\n",
    "    LST_Day_da = filter_qa('LST_Day', 'LST_Day_QC')\n",
    "    print('LST Day loaded')\n",
    "    LST_Night_da = filter_qa('LST_Night', 'LST_Night_QC')\n",
    "    print('LST Night loaded')\n",
    "    EVI_da = filter_qa('EVI', 'EVI_pixel')\n",
    "    EVI_da = interp_da(EVI_da, TA_da)\n",
    "    print('EVI loaded')"
   ]
  },
  {
   "cell_type": "code",
   "execution_count": 269,
   "metadata": {},
   "outputs": [
    {
     "name": "stdout",
     "output_type": "stream",
     "text": [
      "TA loaded\n",
      "LST Day loaded\n",
      "LST Night loaded\n",
      "EVI loaded\n"
     ]
    }
   ],
   "source": [
    "load_datasets()"
   ]
  },
  {
   "cell_type": "code",
   "execution_count": 305,
   "metadata": {},
   "outputs": [],
   "source": [
    "def pixel_good(time, pixel):\n",
    "    \"\"\"\n",
    "    Determines if a pixel is acceptable to add to a non-fire pixel patch.\n",
    "    (ie not NaN in any raster and not a fire pixel (7,8,9)).\n",
    "    \n",
    "    :param time: the time index of the pixel\n",
    "    :param pixel: the spatial index to check\n",
    "    :returns: True or False (pixel is acceptable)\n",
    "    \"\"\"\n",
    "    # check if pixel is a fire pixel\n",
    "    if TA_da.values[time][pixel] in [7, 8, 9]:\n",
    "        return False\n",
    "    \n",
    "    # check if pixel is NaN\n",
    "    for da in [TA_da, EVI_da, LST_Day_da, LST_Night_da]:\n",
    "        if np.isnan(da.values[time][pixel]):\n",
    "            return False\n",
    "    \n",
    "    # pixel passed tests\n",
    "    return True\n",
    "\n",
    "def find_patch(time, curr_pix, patch, found, frontier, patch_size):\n",
    "    \"\"\"\n",
    "    Finds a non-fire patch of pixels as an instance of no fire.\n",
    "    \n",
    "    :param time: raster date index to extract\n",
    "    :param curr_pix: current pixel being processed\n",
    "    :param patch: the patch of pixles being generated, starts as empty list\n",
    "    :param found: list of visited index tuples\n",
    "    :param frontier: list of pixels to invesigate, pass empty to start\n",
    "    :param patch_size: number of pixels to be found for this patch\n",
    "    \n",
    "    :returns: list of tuples of indices in patch\n",
    "    \"\"\"\n",
    "    # add pixel to patch\n",
    "    patch.append(curr_pix)\n",
    "        \n",
    "    #stop when patch is appropriately sized\n",
    "    if len(patch) >= patch_size:\n",
    "        return patch\n",
    "    \n",
    "    #explore pixel neighbors\n",
    "    for i in range(-1,2,1):\n",
    "        for j in range(-1,2,1):\n",
    "            neighbor = (curr_pix[0]+i, curr_pix[1]+j)\n",
    "            # only examine pixel if not already checked\n",
    "            if (neighbor not in found) and pixel_good(time, neighbor):\n",
    "                frontier.append(neighbor)\n",
    "                found.append(neighbor)\n",
    "                \n",
    "    # if no more valid pixels to check, exit\n",
    "    if len(frontier) == 0:\n",
    "        return patch\n",
    "    \n",
    "    # examine next pixel in queue\n",
    "    next_pix = frontier.pop(0)\n",
    "    \n",
    "    # recurse\n",
    "    return find_patch(time, next_pix, patch, found, frontier, patch_size)"
   ]
  },
  {
   "cell_type": "code",
   "execution_count": 307,
   "metadata": {},
   "outputs": [],
   "source": [
    "def find_non_fire_patches(load_datasets=False):\n",
    "    \"\"\"\n",
    "    Find set of non-fire patches for each day in time-series.\n",
    "    \n",
    "    :param load_datasets: pass True if datasets have not already been loaded\n",
    "    \n",
    "    :returns: dictionary of patch indices (date -> list of patches)\n",
    "    \"\"\"\n",
    "    # load datasets\n",
    "    if load_datasets:\n",
    "        load_datasets()\n",
    "    \n",
    "    # initialize storage\n",
    "    patches = {}\n",
    "    \n",
    "    # save dimensions of a raster\n",
    "    dim1 = TA_da.shape[1]\n",
    "    dim2 = TA_da.shape[2]\n",
    "    \n",
    "    for time in np.arange(TA_da.shape[0]):\n",
    "        curr_patches = []\n",
    "        found = []\n",
    "        \n",
    "        # find this many distinct patches for this date \n",
    "        for _ in range(np.random.choice(np.arange(2,6), p = [0.35, 0.35, 0.15, 0.15])):\n",
    "                \n",
    "            # choose random patch size\n",
    "            patch_size = 0\n",
    "            while (patch_size < MIN_PATCH_SIZE) or (patch_size > MAX_PATCH_SIZE):\n",
    "                # to see sample distribution generate 1000 samples and plot\n",
    "                patch_size = int(np.random.lognormal(2, 1.75))\n",
    "            \n",
    "            # generate random start point that hasn't yet been chosen\n",
    "            i, j = 0, 0\n",
    "            while (not pixel_good(time, (i,j))) or ((i,j) in found):\n",
    "                i = np.random.choice(np.arange(dim1))\n",
    "                j = np.random.choice(np.arange(dim2))\n",
    "            start = (i,j)\n",
    "\n",
    "            # find a patch\n",
    "            found.append(start)\n",
    "            patch = find_patch(time, start, [], found, [], patch_size)\n",
    "            curr_patches.append(patch)\n",
    "            found.extend(patch)\n",
    "            \n",
    "        # save patches to dictionary\n",
    "        patches[TA_da.time.values[time]] = curr_patches\n",
    "        \n",
    "    return patches"
   ]
  },
  {
   "cell_type": "code",
   "execution_count": 287,
   "metadata": {
    "scrolled": true
   },
   "outputs": [
    {
     "name": "stdout",
     "output_type": "stream",
     "text": [
      "(459, 782)\n",
      "Done.\n"
     ]
    }
   ],
   "source": [
    "i, j = 0, 0\n",
    "while not pixel_good(0, (i,j)):\n",
    "    i = np.random.choice(np.arange(LST_Day_da.shape[1]))\n",
    "    j = np.random.choice(np.arange(LST_Day_da.shape[2]))\n",
    "    \n",
    "start = (i,j)\n",
    "print(start)\n",
    "start = (14, 1273)\n",
    "130\n",
    "test = find_patch(0, start, [], [], [], 130)\n",
    "print('Done.')"
   ]
  },
  {
   "cell_type": "code",
   "execution_count": 93,
   "metadata": {},
   "outputs": [],
   "source": [
    "ix = ([p[0] for p in test], [p[1] for p in test])"
   ]
  },
  {
   "cell_type": "code",
   "execution_count": 304,
   "metadata": {
    "collapsed": true
   },
   "outputs": [
    {
     "name": "stdout",
     "output_type": "stream",
     "text": [
      "0\n",
      "1\n",
      "2\n",
      "3\n",
      "4\n",
      "5\n",
      "6\n",
      "7\n",
      "8\n",
      "9\n",
      "10\n",
      "11\n",
      "12\n",
      "13\n",
      "14\n",
      "15\n",
      "16\n",
      "17\n",
      "18\n",
      "19\n",
      "20\n",
      "21\n",
      "22\n",
      "23\n",
      "24\n",
      "25\n",
      "26\n",
      "27\n",
      "28\n",
      "29\n",
      "30\n",
      "31\n",
      "32\n",
      "33\n",
      "34\n",
      "35\n",
      "36\n",
      "37\n",
      "38\n",
      "39\n",
      "40\n",
      "41\n",
      "42\n",
      "43\n",
      "44\n",
      "45\n",
      "46\n"
     ]
    }
   ],
   "source": [
    "patches = find_non_fire_patches()"
   ]
  },
  {
   "cell_type": "code",
   "execution_count": 331,
   "metadata": {},
   "outputs": [],
   "source": [
    "def extract_data_from_patches(patches):\n",
    "    # extract dimensions of a pixel\n",
    "    pixel_length = TA_da.attrs['transform'][0]  # length of a pixel in meters\n",
    "    rows = []\n",
    "    \n",
    "    # iterate through patches dict\n",
    "    for k, v in patches.items():\n",
    "        time = k\n",
    "        # iterate through patches \n",
    "        for patch in v:\n",
    "            # extract relevant values from each patch\n",
    "            curr_row = {}\n",
    "            ix = ([p[0] for p in patch], [p[1] for p in patch])\n",
    "            curr_row['time'] = time\n",
    "            curr_row['area'] = pixel_length**2 * len(patch)\n",
    "            curr_row['lst_day'] = np.mean(LST_Day_da.sel(time=time).values[ix])\n",
    "            curr_row['lst_night'] = np.mean(LST_Night_da.sel(time=time).values[ix])\n",
    "            curr_row['evi'] = np.mean(EVI_da.sel(time=time).values[ix])\n",
    "            curr_row['class'] = 'no_fire'\n",
    "            rows.append(curr_row)\n",
    "        \n",
    "    return pd.DataFrame(rows)"
   ]
  },
  {
   "cell_type": "code",
   "execution_count": 344,
   "metadata": {},
   "outputs": [],
   "source": [
    "df = extract_data_from_patches(patches)\n",
    "df.to_csv('non_fire.csv', index=False)"
   ]
  },
  {
   "cell_type": "code",
   "execution_count": 343,
   "metadata": {},
   "outputs": [
    {
     "data": {
      "text/plain": [
       "<matplotlib.axes._subplots.AxesSubplot at 0xd3fd44710>"
      ]
     },
     "execution_count": 343,
     "metadata": {},
     "output_type": "execute_result"
    },
    {
     "data": {
      "image/png": "[encoded data removed]",
      "text/plain": [
       "<Figure size 432x288 with 1 Axes>"
      ]
     },
     "metadata": {
      "needs_background": "light"
     },
     "output_type": "display_data"
    }
   ],
   "source": [
    "import seaborn as sns\n",
    "sns.boxplot(df.area)"
   ]
  },
  {
   "cell_type": "code",
   "execution_count": null,
   "metadata": {},
   "outputs": [],
   "source": []
  }
 ],
 "metadata": {
  "kernelspec": {
   "display_name": "Python 3",
   "language": "python",
   "name": "python3"
  },
  "language_info": {
   "codemirror_mode": {
    "name": "ipython",
    "version": 3
   },
   "file_extension": ".py",
   "mimetype": "text/x-python",
   "name": "python",
   "nbconvert_exporter": "python",
   "pygments_lexer": "ipython3",
   "version": "3.7.4"
  }
 },
 "nbformat": 4,
 "nbformat_minor": 2
}
