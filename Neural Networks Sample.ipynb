{
 "cells": [
  {
   "cell_type": "code",
   "execution_count": 6,
   "metadata": {},
   "outputs": [],
   "source": [
    "import numpy as np\n",
    "import pandas as pd\n",
    "from sklearn.neural_network import MLPClassifier\n",
    "from sklearn.preprocessing import StandardScaler\n",
    "import re\n"
   ]
  },
  {
   "cell_type": "code",
   "execution_count": 79,
   "metadata": {},
   "outputs": [
    {
     "data": {
      "text/html": [
       "<div>\n",
       "<style scoped>\n",
       "    .dataframe tbody tr th:only-of-type {\n",
       "        vertical-align: middle;\n",
       "    }\n",
       "\n",
       "    .dataframe tbody tr th {\n",
       "        vertical-align: top;\n",
       "    }\n",
       "\n",
       "    .dataframe thead th {\n",
       "        text-align: right;\n",
       "    }\n",
       "</style>\n",
       "<table border=\"1\" class=\"dataframe\">\n",
       "  <thead>\n",
       "    <tr style=\"text-align: right;\">\n",
       "      <th></th>\n",
       "      <th>time</th>\n",
       "      <th>lat</th>\n",
       "      <th>lon</th>\n",
       "      <th>area</th>\n",
       "      <th>lst_day</th>\n",
       "      <th>lst_night</th>\n",
       "      <th>evi</th>\n",
       "      <th>class</th>\n",
       "    </tr>\n",
       "  </thead>\n",
       "  <tbody>\n",
       "    <tr>\n",
       "      <td>0</td>\n",
       "      <td>2018-06-26</td>\n",
       "      <td>33.408854</td>\n",
       "      <td>-117.076050</td>\n",
       "      <td>1.373816e+07</td>\n",
       "      <td>307.487500</td>\n",
       "      <td>289.228750</td>\n",
       "      <td>0.216975</td>\n",
       "      <td>no_fire</td>\n",
       "    </tr>\n",
       "    <tr>\n",
       "      <td>1</td>\n",
       "      <td>2018-06-26</td>\n",
       "      <td>36.137575</td>\n",
       "      <td>-118.225236</td>\n",
       "      <td>9.530845e+07</td>\n",
       "      <td>306.894414</td>\n",
       "      <td>284.389730</td>\n",
       "      <td>0.234126</td>\n",
       "      <td>no_fire</td>\n",
       "    </tr>\n",
       "    <tr>\n",
       "      <td>2</td>\n",
       "      <td>2018-06-26</td>\n",
       "      <td>41.055741</td>\n",
       "      <td>-121.923551</td>\n",
       "      <td>5.452330e+08</td>\n",
       "      <td>300.717102</td>\n",
       "      <td>291.531937</td>\n",
       "      <td>0.398504</td>\n",
       "      <td>no_fire</td>\n",
       "    </tr>\n",
       "    <tr>\n",
       "      <td>3</td>\n",
       "      <td>2018-07-04</td>\n",
       "      <td>37.479687</td>\n",
       "      <td>-120.400798</td>\n",
       "      <td>4.121447e+07</td>\n",
       "      <td>322.606667</td>\n",
       "      <td>293.778333</td>\n",
       "      <td>0.166904</td>\n",
       "      <td>no_fire</td>\n",
       "    </tr>\n",
       "    <tr>\n",
       "      <td>4</td>\n",
       "      <td>2018-07-04</td>\n",
       "      <td>35.525000</td>\n",
       "      <td>-118.555102</td>\n",
       "      <td>5.151808e+06</td>\n",
       "      <td>307.930000</td>\n",
       "      <td>291.180000</td>\n",
       "      <td>0.362250</td>\n",
       "      <td>no_fire</td>\n",
       "    </tr>\n",
       "  </tbody>\n",
       "</table>\n",
       "</div>"
      ],
      "text/plain": [
       "         time        lat         lon          area     lst_day   lst_night  \\\n",
       "0  2018-06-26  33.408854 -117.076050  1.373816e+07  307.487500  289.228750   \n",
       "1  2018-06-26  36.137575 -118.225236  9.530845e+07  306.894414  284.389730   \n",
       "2  2018-06-26  41.055741 -121.923551  5.452330e+08  300.717102  291.531937   \n",
       "3  2018-07-04  37.479687 -120.400798  4.121447e+07  322.606667  293.778333   \n",
       "4  2018-07-04  35.525000 -118.555102  5.151808e+06  307.930000  291.180000   \n",
       "\n",
       "        evi    class  \n",
       "0  0.216975  no_fire  \n",
       "1  0.234126  no_fire  \n",
       "2  0.398504  no_fire  \n",
       "3  0.166904  no_fire  \n",
       "4  0.362250  no_fire  "
      ]
     },
     "execution_count": 79,
     "metadata": {},
     "output_type": "execute_result"
    }
   ],
   "source": [
    "df = pd.read_csv('non_fire.csv')\n",
    "df.head(5)"
   ]
  },
  {
   "cell_type": "code",
   "execution_count": 101,
   "metadata": {},
   "outputs": [],
   "source": [
    "def date_to_month(datetime):\n",
    "    datetime = int(re.search(\"-\\d\\d\",datetime).group(0))\n",
    "    return datetime"
   ]
  },
  {
   "cell_type": "code",
   "execution_count": 105,
   "metadata": {},
   "outputs": [],
   "source": [
    "df['month'] = abs(df.time.apply(date_to_month))"
   ]
  },
  {
   "cell_type": "code",
   "execution_count": 106,
   "metadata": {},
   "outputs": [
    {
     "data": {
      "text/plain": [
       "6     18\n",
       "7     17\n",
       "1     17\n",
       "12    15\n",
       "9     15\n",
       "11    13\n",
       "10    11\n",
       "8     11\n",
       "5     11\n",
       "2     11\n",
       "3     10\n",
       "4      7\n",
       "Name: month, dtype: int64"
      ]
     },
     "execution_count": 106,
     "metadata": {},
     "output_type": "execute_result"
    }
   ],
   "source": [
    "df.month.value_counts()"
   ]
  },
  {
   "cell_type": "code",
   "execution_count": null,
   "metadata": {},
   "outputs": [],
   "source": [
    "y = df['class']\n",
    "x = df.drop(['class','time'], axis=1)"
   ]
  },
  {
   "cell_type": "code",
   "execution_count": 122,
   "metadata": {},
   "outputs": [],
   "source": [
    "from sklearn.model_selection import train_test_split\n",
    "train_x, test_x, train_y, test_y = train_test_split(x, y, test_size = 0.25, random_state = 42)"
   ]
  },
  {
   "cell_type": "code",
   "execution_count": 128,
   "metadata": {},
   "outputs": [
    {
     "data": {
      "text/plain": [
       "MLPClassifier(activation='relu', alpha=1, batch_size='auto', beta_1=0.9,\n",
       "              beta_2=0.999, early_stopping=False, epsilon=1e-08,\n",
       "              hidden_layer_sizes=(2, 64), learning_rate='constant',\n",
       "              learning_rate_init=0.001, max_iter=1000, momentum=0.9,\n",
       "              n_iter_no_change=10, nesterovs_momentum=True, power_t=0.5,\n",
       "              random_state=1, shuffle=True, solver='adam', tol=0.0001,\n",
       "              validation_fraction=0.1, verbose=False, warm_start=False)"
      ]
     },
     "execution_count": 128,
     "metadata": {},
     "output_type": "execute_result"
    }
   ],
   "source": [
    "#MLP Classifier Function\n",
    "#solver: 'Adam' works better for bigger datasets\n",
    "#regularization parameter: paper did between 0.8 - 4, and compared results\n",
    "#hiddenlayers: 1 case did 2 hidden layers with 64 hidden units in each\n",
    "#\n",
    "clf = MLPClassifier(solver='adam', alpha=1, max_iter=1000,hidden_layer_sizes=(2,64), random_state=1)\n",
    "clf.fit(train_x, train_y)"
   ]
  },
  {
   "cell_type": "code",
   "execution_count": 129,
   "metadata": {},
   "outputs": [],
   "source": [
    "train_preds = clf.predict(train_x)\n",
    "test_preds = clf.predict(test_x)"
   ]
  },
  {
   "cell_type": "code",
   "execution_count": null,
   "metadata": {},
   "outputs": [],
   "source": []
  }
 ],
 "metadata": {
  "kernelspec": {
   "display_name": "Python 3",
   "language": "python",
   "name": "python3"
  },
  "language_info": {
   "codemirror_mode": {
    "name": "ipython",
    "version": 3
   },
   "file_extension": ".py",
   "mimetype": "text/x-python",
   "name": "python",
   "nbconvert_exporter": "python",
   "pygments_lexer": "ipython3",
   "version": "3.7.4"
  }
 },
 "nbformat": 4,
 "nbformat_minor": 2
}
