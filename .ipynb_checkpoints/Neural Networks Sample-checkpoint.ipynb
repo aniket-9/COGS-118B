{
 "cells": [
  {
   "cell_type": "code",
   "execution_count": 197,
   "metadata": {},
   "outputs": [],
   "source": [
    "import numpy as np\n",
    "import pandas as pd\n",
    "from sklearn.neural_network import MLPClassifier\n",
    "from sklearn.preprocessing import StandardScaler\n",
    "from sklearn.metrics import confusion_matrix\n",
    "import re\n"
   ]
  },
  {
   "cell_type": "code",
   "execution_count": 198,
   "metadata": {},
   "outputs": [
    {
     "data": {
      "text/html": [
       "<div>\n",
       "<style scoped>\n",
       "    .dataframe tbody tr th:only-of-type {\n",
       "        vertical-align: middle;\n",
       "    }\n",
       "\n",
       "    .dataframe tbody tr th {\n",
       "        vertical-align: top;\n",
       "    }\n",
       "\n",
       "    .dataframe thead th {\n",
       "        text-align: right;\n",
       "    }\n",
       "</style>\n",
       "<table border=\"1\" class=\"dataframe\">\n",
       "  <thead>\n",
       "    <tr style=\"text-align: right;\">\n",
       "      <th></th>\n",
       "      <th>time</th>\n",
       "      <th>lat</th>\n",
       "      <th>lon</th>\n",
       "      <th>area</th>\n",
       "      <th>lst_day</th>\n",
       "      <th>lst_night</th>\n",
       "      <th>evi</th>\n",
       "      <th>class</th>\n",
       "    </tr>\n",
       "  </thead>\n",
       "  <tbody>\n",
       "    <tr>\n",
       "      <td>0</td>\n",
       "      <td>2018-06-26</td>\n",
       "      <td>33.408854</td>\n",
       "      <td>-117.076050</td>\n",
       "      <td>1.373816e+07</td>\n",
       "      <td>307.487500</td>\n",
       "      <td>289.228750</td>\n",
       "      <td>0.216975</td>\n",
       "      <td>no_fire</td>\n",
       "    </tr>\n",
       "    <tr>\n",
       "      <td>1</td>\n",
       "      <td>2018-06-26</td>\n",
       "      <td>36.137575</td>\n",
       "      <td>-118.225236</td>\n",
       "      <td>9.530845e+07</td>\n",
       "      <td>306.894414</td>\n",
       "      <td>284.389730</td>\n",
       "      <td>0.234126</td>\n",
       "      <td>no_fire</td>\n",
       "    </tr>\n",
       "    <tr>\n",
       "      <td>2</td>\n",
       "      <td>2018-06-26</td>\n",
       "      <td>41.055741</td>\n",
       "      <td>-121.923551</td>\n",
       "      <td>5.452330e+08</td>\n",
       "      <td>300.717102</td>\n",
       "      <td>291.531937</td>\n",
       "      <td>0.398504</td>\n",
       "      <td>no_fire</td>\n",
       "    </tr>\n",
       "    <tr>\n",
       "      <td>3</td>\n",
       "      <td>2018-07-04</td>\n",
       "      <td>37.479687</td>\n",
       "      <td>-120.400798</td>\n",
       "      <td>4.121447e+07</td>\n",
       "      <td>322.606667</td>\n",
       "      <td>293.778333</td>\n",
       "      <td>0.166904</td>\n",
       "      <td>no_fire</td>\n",
       "    </tr>\n",
       "    <tr>\n",
       "      <td>4</td>\n",
       "      <td>2018-07-04</td>\n",
       "      <td>35.525000</td>\n",
       "      <td>-118.555102</td>\n",
       "      <td>5.151808e+06</td>\n",
       "      <td>307.930000</td>\n",
       "      <td>291.180000</td>\n",
       "      <td>0.362250</td>\n",
       "      <td>no_fire</td>\n",
       "    </tr>\n",
       "    <tr>\n",
       "      <td>...</td>\n",
       "      <td>...</td>\n",
       "      <td>...</td>\n",
       "      <td>...</td>\n",
       "      <td>...</td>\n",
       "      <td>...</td>\n",
       "      <td>...</td>\n",
       "      <td>...</td>\n",
       "      <td>...</td>\n",
       "    </tr>\n",
       "    <tr>\n",
       "      <td>151</td>\n",
       "      <td>2019-06-26</td>\n",
       "      <td>40.717500</td>\n",
       "      <td>-121.522054</td>\n",
       "      <td>4.293173e+06</td>\n",
       "      <td>299.716000</td>\n",
       "      <td>282.716000</td>\n",
       "      <td>0.318680</td>\n",
       "      <td>no_fire</td>\n",
       "    </tr>\n",
       "    <tr>\n",
       "      <td>152</td>\n",
       "      <td>2019-06-26</td>\n",
       "      <td>38.673192</td>\n",
       "      <td>-123.152378</td>\n",
       "      <td>4.550764e+07</td>\n",
       "      <td>302.043019</td>\n",
       "      <td>287.167547</td>\n",
       "      <td>0.439543</td>\n",
       "      <td>no_fire</td>\n",
       "    </tr>\n",
       "    <tr>\n",
       "      <td>153</td>\n",
       "      <td>2019-06-26</td>\n",
       "      <td>40.518056</td>\n",
       "      <td>-121.884754</td>\n",
       "      <td>2.575904e+06</td>\n",
       "      <td>299.873333</td>\n",
       "      <td>286.833333</td>\n",
       "      <td>0.404333</td>\n",
       "      <td>no_fire</td>\n",
       "    </tr>\n",
       "    <tr>\n",
       "      <td>154</td>\n",
       "      <td>2019-06-26</td>\n",
       "      <td>36.181548</td>\n",
       "      <td>-119.945033</td>\n",
       "      <td>6.010443e+06</td>\n",
       "      <td>314.180000</td>\n",
       "      <td>291.480000</td>\n",
       "      <td>0.199914</td>\n",
       "      <td>no_fire</td>\n",
       "    </tr>\n",
       "    <tr>\n",
       "      <td>155</td>\n",
       "      <td>2019-06-26</td>\n",
       "      <td>39.821875</td>\n",
       "      <td>-121.571776</td>\n",
       "      <td>6.869078e+06</td>\n",
       "      <td>304.582500</td>\n",
       "      <td>289.442500</td>\n",
       "      <td>0.208475</td>\n",
       "      <td>no_fire</td>\n",
       "    </tr>\n",
       "  </tbody>\n",
       "</table>\n",
       "<p>156 rows × 8 columns</p>\n",
       "</div>"
      ],
      "text/plain": [
       "           time        lat         lon          area     lst_day   lst_night  \\\n",
       "0    2018-06-26  33.408854 -117.076050  1.373816e+07  307.487500  289.228750   \n",
       "1    2018-06-26  36.137575 -118.225236  9.530845e+07  306.894414  284.389730   \n",
       "2    2018-06-26  41.055741 -121.923551  5.452330e+08  300.717102  291.531937   \n",
       "3    2018-07-04  37.479687 -120.400798  4.121447e+07  322.606667  293.778333   \n",
       "4    2018-07-04  35.525000 -118.555102  5.151808e+06  307.930000  291.180000   \n",
       "..          ...        ...         ...           ...         ...         ...   \n",
       "151  2019-06-26  40.717500 -121.522054  4.293173e+06  299.716000  282.716000   \n",
       "152  2019-06-26  38.673192 -123.152378  4.550764e+07  302.043019  287.167547   \n",
       "153  2019-06-26  40.518056 -121.884754  2.575904e+06  299.873333  286.833333   \n",
       "154  2019-06-26  36.181548 -119.945033  6.010443e+06  314.180000  291.480000   \n",
       "155  2019-06-26  39.821875 -121.571776  6.869078e+06  304.582500  289.442500   \n",
       "\n",
       "          evi    class  \n",
       "0    0.216975  no_fire  \n",
       "1    0.234126  no_fire  \n",
       "2    0.398504  no_fire  \n",
       "3    0.166904  no_fire  \n",
       "4    0.362250  no_fire  \n",
       "..        ...      ...  \n",
       "151  0.318680  no_fire  \n",
       "152  0.439543  no_fire  \n",
       "153  0.404333  no_fire  \n",
       "154  0.199914  no_fire  \n",
       "155  0.208475  no_fire  \n",
       "\n",
       "[156 rows x 8 columns]"
      ]
     },
     "execution_count": 198,
     "metadata": {},
     "output_type": "execute_result"
    }
   ],
   "source": [
    "df = pd.read_csv('non_fire.csv')\n",
    "df"
   ]
  },
  {
   "cell_type": "code",
   "execution_count": 199,
   "metadata": {},
   "outputs": [],
   "source": [
    "def date_to_month(datetime):\n",
    "    datetime = int(re.search(\"-\\d\\d\",datetime).group(0))\n",
    "    return datetime"
   ]
  },
  {
   "cell_type": "code",
   "execution_count": 200,
   "metadata": {},
   "outputs": [],
   "source": [
    "df['month'] = abs(df.time.apply(date_to_month))"
   ]
  },
  {
   "cell_type": "code",
   "execution_count": 201,
   "metadata": {},
   "outputs": [
    {
     "data": {
      "text/plain": [
       "6     18\n",
       "7     17\n",
       "1     17\n",
       "12    15\n",
       "9     15\n",
       "11    13\n",
       "10    11\n",
       "8     11\n",
       "5     11\n",
       "2     11\n",
       "3     10\n",
       "4      7\n",
       "Name: month, dtype: int64"
      ]
     },
     "execution_count": 201,
     "metadata": {},
     "output_type": "execute_result"
    }
   ],
   "source": [
    "df.month.value_counts()"
   ]
  },
  {
   "cell_type": "code",
   "execution_count": 202,
   "metadata": {},
   "outputs": [],
   "source": [
    "y = df['class']\n",
    "x = df.drop(['class','time'], axis=1)"
   ]
  },
  {
   "cell_type": "code",
   "execution_count": 203,
   "metadata": {},
   "outputs": [
    {
     "data": {
      "text/plain": [
       "(156, 7)"
      ]
     },
     "execution_count": 203,
     "metadata": {},
     "output_type": "execute_result"
    }
   ],
   "source": [
    "x.shape"
   ]
  },
  {
   "cell_type": "code",
   "execution_count": 204,
   "metadata": {},
   "outputs": [],
   "source": [
    "from sklearn.model_selection import train_test_split\n",
    "train_x, test_x, train_y, test_y = train_test_split(x, y, test_size = 0.25, random_state = 42)"
   ]
  },
  {
   "cell_type": "code",
   "execution_count": 205,
   "metadata": {},
   "outputs": [
    {
     "data": {
      "text/plain": [
       "StandardScaler(copy=True, with_mean=True, with_std=True)"
      ]
     },
     "execution_count": 205,
     "metadata": {},
     "output_type": "execute_result"
    }
   ],
   "source": [
    "scaler = StandardScaler()\n",
    "scaler.fit(train_x)"
   ]
  },
  {
   "cell_type": "code",
   "execution_count": 206,
   "metadata": {},
   "outputs": [],
   "source": [
    "train_x = scaler.transform(train_x)\n",
    "test_x = scaler.transform(test_x)"
   ]
  },
  {
   "cell_type": "code",
   "execution_count": 207,
   "metadata": {},
   "outputs": [
    {
     "data": {
      "text/plain": [
       "5.17416119446566e-15"
      ]
     },
     "execution_count": 207,
     "metadata": {},
     "output_type": "execute_result"
    }
   ],
   "source": [
    "train_x[:,1].mean()"
   ]
  },
  {
   "cell_type": "code",
   "execution_count": 208,
   "metadata": {},
   "outputs": [
    {
     "data": {
      "text/plain": [
       "-0.12550594349746527"
      ]
     },
     "execution_count": 208,
     "metadata": {},
     "output_type": "execute_result"
    }
   ],
   "source": [
    "test_x[:,1].mean()"
   ]
  },
  {
   "cell_type": "code",
   "execution_count": 209,
   "metadata": {},
   "outputs": [
    {
     "data": {
      "text/plain": [
       "MLPClassifier(activation='relu', alpha=1, batch_size='auto', beta_1=0.9,\n",
       "              beta_2=0.999, early_stopping=False, epsilon=1e-08,\n",
       "              hidden_layer_sizes=(28, 28), learning_rate='constant',\n",
       "              learning_rate_init=0.001, max_iter=1000, momentum=0.9,\n",
       "              n_iter_no_change=10, nesterovs_momentum=True, power_t=0.5,\n",
       "              random_state=42, shuffle=True, solver='lbfgs', tol=0.0001,\n",
       "              validation_fraction=0.1, verbose=False, warm_start=False)"
      ]
     },
     "execution_count": 209,
     "metadata": {},
     "output_type": "execute_result"
    }
   ],
   "source": [
    "#MLP Classifier Function\n",
    "#solver: 'Adam' works better for bigger datasets, 'lbfgs' faster and better for smaller\n",
    "#regularization parameter: paper did between 0.8 - 4, and compared results\n",
    "#hiddenlayers: 2 layers with 28 units each\n",
    "clf = MLPClassifier(solver='lbfgs', alpha=1, max_iter=1000,hidden_layer_sizes=(28,28), random_state=42)\n",
    "clf.fit(train_x, train_y)"
   ]
  },
  {
   "cell_type": "code",
   "execution_count": 210,
   "metadata": {},
   "outputs": [],
   "source": [
    "train_preds = clf.predict(train_x)\n",
    "test_preds = clf.predict(test_x)"
   ]
  },
  {
   "cell_type": "code",
   "execution_count": null,
   "metadata": {},
   "outputs": [],
   "source": [
    "100 * np."
   ]
  },
  {
   "cell_type": "code",
   "execution_count": 211,
   "metadata": {},
   "outputs": [
    {
     "data": {
      "text/plain": [
       "array([[39]], dtype=int64)"
      ]
     },
     "execution_count": 211,
     "metadata": {},
     "output_type": "execute_result"
    }
   ],
   "source": [
    "confusion_matrix(test_y,test_preds)"
   ]
  }
 ],
 "metadata": {
  "kernelspec": {
   "display_name": "Python 3",
   "language": "python",
   "name": "python3"
  },
  "language_info": {
   "codemirror_mode": {
    "name": "ipython",
    "version": 3
   },
   "file_extension": ".py",
   "mimetype": "text/x-python",
   "name": "python",
   "nbconvert_exporter": "python",
   "pygments_lexer": "ipython3",
   "version": "3.7.4"
  }
 },
 "nbformat": 4,
 "nbformat_minor": 2
}
